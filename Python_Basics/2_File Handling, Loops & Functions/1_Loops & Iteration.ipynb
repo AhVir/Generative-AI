{
 "cells": [
  {
   "cell_type": "markdown",
   "metadata": {},
   "source": [
    "## Loops & Iteration"
   ]
  },
  {
   "cell_type": "markdown",
   "metadata": {},
   "source": [
    "### Loops"
   ]
  },
  {
   "cell_type": "markdown",
   "metadata": {},
   "source": [
    "#### Check whether a number is even or odd"
   ]
  },
  {
   "cell_type": "code",
   "execution_count": 3,
   "metadata": {},
   "outputs": [
    {
     "name": "stdout",
     "output_type": "stream",
     "text": [
      "101 is an Odd number\n",
      "hi mate,  102 an even number!!\n"
     ]
    }
   ],
   "source": [
    "x = 101\n",
    "\n",
    "if x % 2 == 0:\n",
    "    print(x, \"is an Even number\")\n",
    "else:\n",
    "    print(x, \"is an Odd number\")\n",
    "\n",
    "\n",
    "y = 102\n",
    "\n",
    "if y%2 == 0:\n",
    "    print(\"hi mate, \", y, \"an even number!!\")\n",
    "else:\n",
    "    print(\"Hi mate, \", y, \" an odd!\")"
   ]
  },
  {
   "cell_type": "code",
   "execution_count": 4,
   "metadata": {},
   "outputs": [
    {
     "name": "stdout",
     "output_type": "stream",
     "text": [
      "11 is an Odd number\n"
     ]
    }
   ],
   "source": [
    "x = int(input(\"Enter your age: \"))\n",
    "\n",
    "if x % 2 == 0:\n",
    "    print(x, \"is an Even number\")\n",
    "else:\n",
    "    print(x, \"is an Odd number\")"
   ]
  },
  {
   "cell_type": "markdown",
   "metadata": {},
   "source": [
    "#### < 18 & > 50 are not allowed for the party. --> 18 or above and 50 and below are allowed for the party."
   ]
  },
  {
   "cell_type": "code",
   "execution_count": 5,
   "metadata": {},
   "outputs": [
    {
     "name": "stdout",
     "output_type": "stream",
     "text": [
      "Welcome to the party\n"
     ]
    }
   ],
   "source": [
    "x = int(input(\"Enter your age: \"))\n",
    "\n",
    "if x < 18 or x > 50:\n",
    "    print(\"Sorry!! You are not allowed for the party\")\n",
    "else:\n",
    "    print(\"Welcome to the party\")"
   ]
  },
  {
   "cell_type": "markdown",
   "metadata": {},
   "source": [
    "#### Program which offers various discounts on purchase bills"
   ]
  },
  {
   "cell_type": "code",
   "execution_count": 6,
   "metadata": {},
   "outputs": [
    {
     "name": "stdout",
     "output_type": "stream",
     "text": [
      "OOPS!! No discount for you!!\n"
     ]
    }
   ],
   "source": [
    "shop_total = int(input(\"Input your billed amount: \"))\n",
    "\n",
    "if shop_total >=5000:\n",
    "    print(\"You have won a voucher of Rs. 1000/-\")\n",
    "elif shop_total >=2500:\n",
    "    print(\"You have won a voucher of Rs. 500/-\")\n",
    "else:\n",
    "    print(\"OOPS!! No discount for you!!\")"
   ]
  },
  {
   "cell_type": "markdown",
   "metadata": {},
   "source": [
    "### Iteration"
   ]
  },
  {
   "cell_type": "code",
   "execution_count": 9,
   "metadata": {},
   "outputs": [
    {
     "name": "stdout",
     "output_type": "stream",
     "text": [
      "10\n",
      "20\n",
      "30\n",
      "40\n",
      "50\n",
      "Tanvir AhVir Sheikh AHmed "
     ]
    }
   ],
   "source": [
    "#Iterate over a list of integers\n",
    "\n",
    "list_1 = [10,20,30,40,50]\n",
    "for num in list_1:\n",
    "    print(num)\n",
    "\n",
    "set_1 = {\"Tanvir\", \"Sheikh\", \"AHmed\", \"AhVir\"}\n",
    "for x in set_1:\n",
    "    print(x, end=\" \")"
   ]
  },
  {
   "cell_type": "code",
   "execution_count": 21,
   "metadata": {},
   "outputs": [
    {
     "name": "stdout",
     "output_type": "stream",
     "text": [
      "O\n",
      "d\n",
      "i\n",
      "s\n",
      "h\n",
      "a\n"
     ]
    }
   ],
   "source": [
    "#Iterate over a String\n",
    "\n",
    "str_1 = \"Odisha\"\n",
    "for ch in str_1:\n",
    "    print(ch)"
   ]
  },
  {
   "cell_type": "code",
   "execution_count": 10,
   "metadata": {},
   "outputs": [
    {
     "name": "stdout",
     "output_type": "stream",
     "text": [
      "['Sam', 25]\n",
      "['Sheikh', 28]\n",
      "['Rakib', 22]\n",
      "['Sudir', 23]\n",
      "['Vijoy Hasan', 24]\n"
     ]
    }
   ],
   "source": [
    "#Iterate over a dictionary\n",
    "\n",
    "students_data = {1: ['Sam', 25], 2:['Sheikh',28], 3:['Rakib',22], 4:['Sudir',23], 5:['Vijoy Hasan',24]}\n",
    "\n",
    "for key,val in students_data.items():\n",
    "    print(val)"
   ]
  },
  {
   "cell_type": "code",
   "execution_count": 23,
   "metadata": {},
   "outputs": [
    {
     "name": "stdout",
     "output_type": "stream",
     "text": [
      "1\n",
      "2\n",
      "3\n",
      "4\n",
      "5\n",
      "loop ended!\n"
     ]
    }
   ],
   "source": [
    "for key in students_data.keys():\n",
    "    print(key)\n",
    "else:\n",
    "    print(\"loop ended!\")"
   ]
  },
  {
   "cell_type": "code",
   "execution_count": 15,
   "metadata": {},
   "outputs": [
    {
     "data": {
      "text/plain": [
       "range(1, 101)"
      ]
     },
     "execution_count": 15,
     "metadata": {},
     "output_type": "execute_result"
    }
   ],
   "source": [
    "range(1,101)"
   ]
  },
  {
   "cell_type": "code",
   "execution_count": 17,
   "metadata": {},
   "outputs": [
    {
     "name": "stdout",
     "output_type": "stream",
     "text": [
      "1\n",
      "2\n",
      "3\n",
      "4\n"
     ]
    }
   ],
   "source": [
    "#Iterate over a range of values\n",
    "\n",
    "for i in range(1,5):\n",
    "    print(i)"
   ]
  },
  {
   "cell_type": "markdown",
   "metadata": {},
   "source": [
    "### Comprehensions"
   ]
  },
  {
   "cell_type": "code",
   "execution_count": 19,
   "metadata": {},
   "outputs": [
    {
     "name": "stdout",
     "output_type": "stream",
     "text": [
      "['Automobiles', 'Honda', 'Benz', 'Maruti', 'Kia']\n"
     ]
    }
   ],
   "source": [
    "list_1 = [\"Automobiles\", \"Honda\", \"Benz\", \"Maruti\", \"Kia\"]\n",
    "\n",
    "list_2 = []\n",
    "\n",
    "for i in list_1:\n",
    "    list_2.append(i)\n",
    "    \n",
    "print(list_2)"
   ]
  },
  {
   "cell_type": "code",
   "execution_count": 31,
   "metadata": {
    "scrolled": true
   },
   "outputs": [
    {
     "name": "stdout",
     "output_type": "stream",
     "text": [
      "[11, 5, 4, 6, 3]\n"
     ]
    }
   ],
   "source": [
    "list_1 = [\"Automobiles\", \"Honda\", \"Benz\", \"Maruti\", \"Kia\"]\n",
    "\n",
    "list_2 = []\n",
    "\n",
    "for i in list_1:\n",
    "    list_2.append(len(i))\n",
    "    \n",
    "print(list_2)"
   ]
  },
  {
   "cell_type": "code",
   "execution_count": 32,
   "metadata": {},
   "outputs": [
    {
     "name": "stdout",
     "output_type": "stream",
     "text": [
      "[11, 5, 4, 6, 3]\n"
     ]
    }
   ],
   "source": [
    "list_1 = [\"Automobiles\", \"Honda\", \"Benz\", \"Maruti\", \"Kia\"]\n",
    "\n",
    "list_2 = [len(i) for i in list_1]\n",
    "    \n",
    "print(list_2)"
   ]
  },
  {
   "cell_type": "code",
   "execution_count": 33,
   "metadata": {},
   "outputs": [
    {
     "data": {
      "text/plain": [
       "{'Automobiles': 11, 'Honda': 5, 'Benz': 4, 'Maruti': 6, 'Kia': 3}"
      ]
     },
     "execution_count": 33,
     "metadata": {},
     "output_type": "execute_result"
    }
   ],
   "source": [
    "list_1 = [\"Automobiles\", \"Honda\", \"Benz\", \"Maruti\", \"Kia\"]\n",
    "\n",
    "d = {i: len(i) for i in list_1}\n",
    "\n",
    "d"
   ]
  },
  {
   "cell_type": "code",
   "execution_count": 25,
   "metadata": {},
   "outputs": [
    {
     "data": {
      "text/plain": [
       "{'Sheikh': 6, 'Tanvir': 6, 'Ahmed': 5}"
      ]
     },
     "execution_count": 25,
     "metadata": {},
     "output_type": "execute_result"
    }
   ],
   "source": [
    "list_3 = [\"Sheikh\", \"Tanvir\", \"Ahmed\"]\n",
    "d1 = {}\n",
    "\n",
    "for i in list_3:\n",
    "    d1[i] = len(i)\n",
    "\n",
    "d1"
   ]
  },
  {
   "cell_type": "code",
   "execution_count": null,
   "metadata": {},
   "outputs": [],
   "source": []
  }
 ],
 "metadata": {
  "kernelspec": {
   "display_name": "base",
   "language": "python",
   "name": "python3"
  },
  "language_info": {
   "codemirror_mode": {
    "name": "ipython",
    "version": 3
   },
   "file_extension": ".py",
   "mimetype": "text/x-python",
   "name": "python",
   "nbconvert_exporter": "python",
   "pygments_lexer": "ipython3",
   "version": "3.13.2"
  }
 },
 "nbformat": 4,
 "nbformat_minor": 2
}
